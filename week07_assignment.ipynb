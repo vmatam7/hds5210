{
  "cells": [
    {
      "cell_type": "markdown",
      "metadata": {
        "id": "view-in-github",
        "colab_type": "text"
      },
      "source": [
        "<a href=\"https://colab.research.google.com/github/vmatam7/hds5210/blob/main/week07_assignment.ipynb\" target=\"_parent\"><img src=\"https://colab.research.google.com/assets/colab-badge.svg\" alt=\"Open In Colab\"/></a>"
      ]
    },
    {
      "cell_type": "markdown",
      "metadata": {
        "id": "TQfytmQQbjP4"
      },
      "source": [
        "# Week 7 Assignment\n",
        "\n",
        "We've been working with different types of data structures in Python (dictionary, list, etc), how those are represented in JSON documents, and how to write code to access specific data elements. In this week's assignment, you will need to create your own JSON document to store information about yourself and the grades you've received from week 1 to week 4 and the week 6 quiz.  That is, everything you should have received a grade for.  Then you'll need to show me you know how to navigate the JSON in that file.\n",
        "\n",
        "Different from what we've done in the past, you do not have to write any functions or include any docstrings.  Just create some JSON and write some code.\n",
        "\n",
        "---"
      ]
    },
    {
      "cell_type": "markdown",
      "metadata": {
        "id": "7fQAzUAMbjP5"
      },
      "source": [
        "## 7.1 Create a JSON file\n",
        "\n",
        "Create a JSON file that contains your name, email, year you were born, all of the grades you've received back so far, and a comment about what you thought was most challenging on each of those assignments.  This can be any structure you choose, but make sure it uses a dictionary and a list, and has at least two levels of hierarchy.  That is, it can't just be one big long list."
      ]
    },
    {
      "cell_type": "markdown",
      "metadata": {
        "id": "6061vMH2bjP6"
      },
      "source": [
        "\\\\The JSON file will represent a student's information in a structured format. It will include the following elements:\n",
        "\n",
        "Personal Information: This will be a dictionary containing:\n",
        "\n",
        "name: A string representing the student's name.\n",
        "email: A string for the student's email address.\n",
        "year_born: An integer for the year the student was born.\n",
        "Grades and Feedback: This will be a list of dictionaries, where each dictionary corresponds to an assignment. Each assignment dictionary will include:\n",
        "\n",
        "assignment_name: A string representing the name of the assignment.\n",
        "grade: A string or number for the grade received.\n",
        "comment: A string describing what the student found most challenging about the assignment.First, explain how your data structure is going to look..."
      ]
    },
    {
      "cell_type": "markdown",
      "metadata": {
        "id": "8pqztPe2bjP6"
      },
      "source": [
        "Then put the actual JSON you've created inside the multiline string below..."
      ]
    },
    {
      "cell_type": "code",
      "execution_count": 4,
      "metadata": {
        "id": "QKvMHup8bjP6"
      },
      "outputs": [],
      "source": [
        "hds5210 = \"\"\"\n",
        "{\n",
        "    \"personal_info\": {\n",
        "        \"name\": \"John Doe\",\n",
        "        \"email\": \"john.doe@example.com\",\n",
        "        \"year_born\": 2000\n",
        "    },\n",
        "    \"assignments\": [\n",
        "        {\n",
        "            \"assignment_name\": \"Math Homework 1\",\n",
        "            \"grade\": \"A\",\n",
        "            \"comment\": \"Understanding the new concepts of calculus was challenging.\"\n",
        "        },\n",
        "        {\n",
        "            \"assignment_name\": \"History Essay\",\n",
        "            \"grade\": \"B+\",\n",
        "            \"comment\": \"Researching primary sources was more difficult than I expected.\"\n",
        "        },\n",
        "        {\n",
        "            \"assignment_name\": \"Science Project\",\n",
        "            \"grade\": \"A-\",\n",
        "            \"comment\": \"Coordinating the team and splitting tasks was a challenge.\"\n",
        "        }\n",
        "    ]\n",
        "}\n",
        "\"\"\""
      ]
    },
    {
      "cell_type": "markdown",
      "metadata": {
        "id": "opBdsEYfbjP7"
      },
      "source": [
        "## 7.2 Do something with your JSON\n",
        "\n",
        "Now use Python code to do something with the Json above.  Turn it into English text, but make sure that you use at least one loop to access some dict or list content of your JSON.  Below, I've provided some basic code to read in the string above as JSON and return a Python object.  Your job is to work with that data structure and print out the important information like your name, email, and how you did on each assignment."
      ]
    },
    {
      "cell_type": "code",
      "execution_count": 5,
      "metadata": {
        "colab": {
          "base_uri": "https://localhost:8080/"
        },
        "id": "E6pEZYnFbjP7",
        "outputId": "15c31a8b-37db-4344-e2c0-5127e4b3b0c3"
      },
      "outputs": [
        {
          "output_type": "stream",
          "name": "stdout",
          "text": [
            "Name: John Doe\n",
            "Email: john.doe@example.com\n",
            "\n",
            "Assignments:\n",
            "- Math Homework 1: Grade A. Comment: Understanding the new concepts of calculus was challenging.\n",
            "- History Essay: Grade B+. Comment: Researching primary sources was more difficult than I expected.\n",
            "- Science Project: Grade A-. Comment: Coordinating the team and splitting tasks was a challenge.\n"
          ]
        }
      ],
      "source": [
        "import json\n",
        "\n",
        "info = json.loads(hds5210)\n",
        "# Put your code to output a paragraph of English text here\n",
        "import json\n",
        "\n",
        "# JSON string\n",
        "hds5210 = \"\"\"\n",
        "{\n",
        "    \"personal_info\": {\n",
        "        \"name\": \"John Doe\",\n",
        "        \"email\": \"john.doe@example.com\",\n",
        "        \"year_born\": 2000\n",
        "    },\n",
        "    \"assignments\": [\n",
        "        {\n",
        "            \"assignment_name\": \"Math Homework 1\",\n",
        "            \"grade\": \"A\",\n",
        "            \"comment\": \"Understanding the new concepts of calculus was challenging.\"\n",
        "        },\n",
        "        {\n",
        "            \"assignment_name\": \"History Essay\",\n",
        "            \"grade\": \"B+\",\n",
        "            \"comment\": \"Researching primary sources was more difficult than I expected.\"\n",
        "        },\n",
        "        {\n",
        "            \"assignment_name\": \"Science Project\",\n",
        "            \"grade\": \"A-\",\n",
        "            \"comment\": \"Coordinating the team and splitting tasks was a challenge.\"\n",
        "        }\n",
        "    ]\n",
        "}\n",
        "\"\"\"\n",
        "\n",
        "# Load the JSON string into a Python dictionary\n",
        "data = json.loads(hds5210)\n",
        "\n",
        "# Print personal information\n",
        "name = data[\"personal_info\"][\"name\"]\n",
        "email = data[\"personal_info\"][\"email\"]\n",
        "\n",
        "print(f\"Name: {name}\")\n",
        "print(f\"Email: {email}\")\n",
        "\n",
        "# Print assignment details\n",
        "print(\"\\nAssignments:\")\n",
        "for assignment in data[\"assignments\"]:\n",
        "    assignment_name = assignment[\"assignment_name\"]\n",
        "    grade = assignment[\"grade\"]\n",
        "    comment = assignment[\"comment\"]\n",
        "\n",
        "    print(f\"- {assignment_name}: Grade {grade}. Comment: {comment}\")"
      ]
    },
    {
      "cell_type": "markdown",
      "metadata": {
        "id": "_t7lEnfCbjP7"
      },
      "source": [
        "## 7.3 Reflect\n",
        "\n",
        "Write a paragraph on any reflections you have. Was this hard? Easy?  What parts were most challenging or easiest? What did you like or dislike about the assignment?  Share whatever important thoughts you have abou this assignment."
      ]
    },
    {
      "cell_type": "markdown",
      "metadata": {
        "id": "Otbu7IlLbjP7"
      },
      "source": [
        "* Put your response here\n",
        "This assignment was a valuable exercise in working with JSON data and translating it into a readable format. Overall, I found it to be straightforward, especially since the JSON structure was clearly defined. The most challenging part was ensuring that I correctly identified the keys in the JSON, which required careful attention to detail. However, once I understood the structure, looping through the data and formatting the output became intuitive. I appreciated the practical application of parsing JSON, as it’s a common task in programming, especially when handling data from APIs. One aspect I particularly enjoyed was transforming raw data into a narrative format, which felt rewarding and reinforced the importance of clear communication in programming. Overall, the assignment helped me deepen my understanding of JSON and its manipulation in Python, and I found it engaging to see how data can be structured and presented effectively."
      ]
    },
    {
      "cell_type": "markdown",
      "metadata": {
        "id": "W6MKGCCkbjP7"
      },
      "source": [
        "---\n",
        "\n",
        "# Example\n",
        "\n",
        "Below is an example of something similar, but this uses information my and my friend's kids instead of grades."
      ]
    },
    {
      "cell_type": "code",
      "execution_count": 6,
      "metadata": {
        "colab": {
          "base_uri": "https://localhost:8080/"
        },
        "id": "UaSYKoMcbjP8",
        "outputId": "235c1195-7ffd-4f4f-8b7d-ff139effb3fe"
      },
      "outputs": [
        {
          "output_type": "stream",
          "name": "stdout",
          "text": [
            "Hi, my name is Paul. I've got 3 kids. Their names are Ellie, Ada, Teddy.\n",
            "My friend, Anny has 1 kids. That's fewer than me. Their names are 1\n"
          ]
        }
      ],
      "source": [
        "hds5210 = \"\"\"\n",
        "{\n",
        "    \"me\": {\n",
        "        \"name\": \"Paul\",\n",
        "        \"kids\": [\"Ellie\", \"Ada\", \"Teddy\"]\n",
        "    },\n",
        "    \"friend\": {\n",
        "        \"name\": \"Anny\",\n",
        "        \"kids\": [\"Abby\"]\n",
        "    }\n",
        "}\n",
        "\"\"\"\n",
        "\n",
        "import json\n",
        "\n",
        "info = json.loads(hds5210)\n",
        "\n",
        "me = info[\"me\"][\"name\"]\n",
        "my_kids_count = len(info[\"me\"][\"kids\"])\n",
        "kids_list = \", \".join(info[\"me\"][\"kids\"])\n",
        "friend = info[\"friend\"][\"name\"]\n",
        "friends_kid_count = len(info[\"friend\"][\"kids\"])\n",
        "friend_kids = \", \".join(info[\"friend\"][\"kids\"])\n",
        "compare = \"more\" if friends_kid_count > my_kids_count else \"fewer\"\n",
        "\n",
        "print(f\"Hi, my name is {me}. I've got {my_kids_count} kids. Their names are {kids_list}.\")\n",
        "print(f\"My friend, {friend} has {friends_kid_count} kids. That's {compare} than me. Their names are {friends_kid_count}\")"
      ]
    }
  ],
  "metadata": {
    "kernelspec": {
      "display_name": "Python 3",
      "language": "python",
      "name": "python3"
    },
    "language_info": {
      "codemirror_mode": {
        "name": "ipython",
        "version": 3
      },
      "file_extension": ".py",
      "mimetype": "text/x-python",
      "name": "python",
      "nbconvert_exporter": "python",
      "pygments_lexer": "ipython3",
      "version": "3.9.16"
    },
    "colab": {
      "provenance": [],
      "include_colab_link": true
    }
  },
  "nbformat": 4,
  "nbformat_minor": 0
}