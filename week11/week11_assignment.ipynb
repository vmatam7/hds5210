{
  "cells": [
    {
      "cell_type": "markdown",
      "metadata": {
        "id": "view-in-github",
        "colab_type": "text"
      },
      "source": [
        "<a href=\"https://colab.research.google.com/github/vmatam7/hds5210/blob/main/week11/week11_assignment.ipynb\" target=\"_parent\"><img src=\"https://colab.research.google.com/assets/colab-badge.svg\" alt=\"Open In Colab\"/></a>"
      ]
    },
    {
      "cell_type": "markdown",
      "metadata": {
        "id": "wql89kkbiXKv"
      },
      "source": [
        "# Week 11 Assignment\n",
        "\n",
        "\n",
        "Please do the programming exercise and verify that your code works using the tests, then think about your final project and fill out the questions in the second part.\n",
        "\n",
        "---\n",
        "---"
      ]
    },
    {
      "cell_type": "markdown",
      "metadata": {
        "id": "KMFgGjaMiXKw"
      },
      "source": [
        "### 47.1: Filtering and summarizing data\n",
        "\n",
        "For this work, you'll find a data file in `/data/complications_all.csv`.\n",
        "\n",
        "Read in the data file and create a variable called `mo_hospitals` that contains a data frame from the `complications_all.csv` file, filtered down to only contain those hospitals from the state of Missouri (MO).\n",
        "\n",
        "Then aggregate that data by hospital into a variable named `mo_summary`.  There are some key fields that we want to summarize:\n",
        "* We want to know the earliest date that each hospital was participating in any program\n",
        "* We want to know the latest date that each hospital stopped participating in any program\n",
        "* We want to know the total number of patients in the denominators of these programs\n",
        "\n",
        "Some things to note:\n",
        "* You will need to convert the `Start Date` and `End Date` to actual datetime fields\n",
        "* You will need to clean up and convert the `Denominator` field to just be numeric - the rule that you should use it to simply remove any records where the `Denominator` is `'Not Available'`\n",
        "\n",
        "\n",
        "The final result of this step should be a new data frame called `mo_summary` that contains one row for each hospital and contains the min start date, max end date, and total denominator.  Use the names `start_date`, `end_date`, and `number` for those columns in `mo_summary`.\n",
        "\n",
        "\n",
        "You do not need to create your code in the form of a function, just make sure your variable names match what I've described above so the tests work."
      ]
    },
    {
      "cell_type": "code",
      "execution_count": 21,
      "metadata": {
        "id": "13ibtCFaiXKx"
      },
      "outputs": [],
      "source": [
        "import pandas as pd\n",
        "# This is just to show you the name to use for the variable you need to create for this step to pass.\n",
        "all_hospitals = pd.read_csv('https://hds5210-data.s3.amazonaws.com/complications_all.csv')\n"
      ]
    },
    {
      "cell_type": "code",
      "execution_count": 22,
      "metadata": {
        "id": "_f3rRU1hiXKx",
        "outputId": "45fd2c7b-aeb0-4c80-ab0d-8beb7cbac8d9",
        "colab": {
          "base_uri": "https://localhost:8080/"
        }
      },
      "outputs": [
        {
          "output_type": "stream",
          "name": "stdout",
          "text": [
            "                                    start_date   end_date  number\n",
            "Facility Name                                                    \n",
            "BARNES JEWISH HOSPITAL              2015-04-01 2018-06-30  131313\n",
            "BARNES-JEWISH ST PETERS HOSPITAL    2015-04-01 2018-06-30   15668\n",
            "BARNES-JEWISH WEST COUNTY HOSPITAL  2015-04-01 2018-06-30    9622\n",
            "BATES COUNTY MEMORIAL HOSPITAL      2015-07-01 2018-06-30    3117\n",
            "BELTON REGIONAL MEDICAL CENTER      2015-04-01 2018-06-30    9270\n",
            "...                                        ...        ...     ...\n",
            "TRUMAN MEDICAL CENTER LAKEWOOD      2015-04-01 2018-06-30    4297\n",
            "UNIVERSITY OF MISSOURI HEALTH CARE  2015-04-01 2018-06-30   56493\n",
            "WASHINGTON COUNTY MEMORIAL HOSPITAL 2015-07-01 2018-06-30     220\n",
            "WESTERN MISSOURI MEDICAL CENTER     2015-04-01 2018-06-30    7254\n",
            "WRIGHT MEMORIAL HOSPITAL            2015-07-01 2018-06-30     198\n",
            "\n",
            "[108 rows x 3 columns]\n"
          ]
        },
        {
          "output_type": "stream",
          "name": "stderr",
          "text": [
            "<ipython-input-22-f0e23ec91c0f>:9: SettingWithCopyWarning: \n",
            "A value is trying to be set on a copy of a slice from a DataFrame.\n",
            "Try using .loc[row_indexer,col_indexer] = value instead\n",
            "\n",
            "See the caveats in the documentation: https://pandas.pydata.org/pandas-docs/stable/user_guide/indexing.html#returning-a-view-versus-a-copy\n",
            "  mo_hospitals['Start Date'] = pd.to_datetime(mo_hospitals['Start Date'], errors='coerce')\n",
            "<ipython-input-22-f0e23ec91c0f>:10: SettingWithCopyWarning: \n",
            "A value is trying to be set on a copy of a slice from a DataFrame.\n",
            "Try using .loc[row_indexer,col_indexer] = value instead\n",
            "\n",
            "See the caveats in the documentation: https://pandas.pydata.org/pandas-docs/stable/user_guide/indexing.html#returning-a-view-versus-a-copy\n",
            "  mo_hospitals['End Date'] = pd.to_datetime(mo_hospitals['End Date'], errors='coerce')\n"
          ]
        }
      ],
      "source": [
        "import pandas as pd\n",
        "\n",
        "# Step 1: Load the data\n",
        "\n",
        "# Step 2: Filter for hospitals in Missouri (MO)\n",
        "mo_hospitals = all_hospitals[all_hospitals['State'] == 'MO']\n",
        "\n",
        "# Step 3: Convert Start Date and End Date to datetime\n",
        "mo_hospitals['Start Date'] = pd.to_datetime(mo_hospitals['Start Date'], errors='coerce')\n",
        "mo_hospitals['End Date'] = pd.to_datetime(mo_hospitals['End Date'], errors='coerce')\n",
        "\n",
        "# Step 4: Clean and convert Denominator to numeric, removing records where it's 'Not Available'\n",
        "mo_hospitals = mo_hospitals[mo_hospitals['Denominator'] != 'Not Available']\n",
        "mo_hospitals['Denominator'] = pd.to_numeric(mo_hospitals['Denominator'])\n",
        "\n",
        "# Step 5: Aggregate data by hospital to get the earliest Start Date, latest End Date, and total Denominator\n",
        "mo_summary = mo_hospitals.groupby('Facility Name').agg(\n",
        "    start_date=('Start Date', 'min'),\n",
        "    end_date=('End Date', 'max'),\n",
        "    number=('Denominator', 'sum')\n",
        ").reset_index()\n",
        "\n",
        "# Optional: Set 'Facility Name' as the index for easier lookups in testing\n",
        "mo_summary.set_index('Facility Name', inplace=True)\n",
        "\n",
        "# Display the resulting summary\n",
        "print(mo_summary)\n",
        "\n"
      ]
    },
    {
      "cell_type": "code",
      "execution_count": 23,
      "metadata": {
        "id": "v6WgSZWViXKx"
      },
      "outputs": [],
      "source": [
        "assert(mo_summary['number'].sum() == 1766908)\n",
        "assert(mo_summary['start_date'].min() == pd.Timestamp(2015,4,1))\n",
        "assert(mo_summary['end_date'].max() == pd.Timestamp(2018,6,30))\n",
        "assert(mo_summary.shape == (108,3))\n",
        "assert(mo_summary.loc['BARNES JEWISH HOSPITAL'].number == 131313)\n",
        "assert(mo_summary.loc['BOONE HOSPITAL CENTER'].number == 63099)"
      ]
    },
    {
      "cell_type": "markdown",
      "metadata": {
        "id": "rukeRyfqiXKy"
      },
      "source": [
        "---\n",
        "\n",
        "### 47.2 Planning your final project\n",
        "\n",
        "You should be thinking about the things we've been learning and how you can apply them to your final project.  Use the rubric to help guid your thinking and then answer the questions below.  This is meant as a guide to help you think through what you will do."
      ]
    },
    {
      "cell_type": "markdown",
      "metadata": {
        "id": "O8Ep0koGiXKy"
      },
      "source": [
        "#### A) Data Access\n",
        "\n",
        "Your project should include data from at least three distinct types of sources.  For example: AWS S3, Relational Databases, Internet, Web Services, local files.  List what data sources you're planning to use."
      ]
    },
    {
      "cell_type": "markdown",
      "metadata": {
        "id": "PnMn0JVriXKy"
      },
      "source": [
        "For the final project, I plan to use the following data sources:\n",
        "\n",
        "AWS S3 - for accessing large datasets stored in a cloud-based data lake.\n",
        "Relational Database (e.g., SQL Database) - for structured data on patients and hospital metrics.\n",
        "Local Files - for smaller datasets in CSV and JSON formats.\n"
      ]
    },
    {
      "cell_type": "markdown",
      "metadata": {
        "id": "62mGVFYeiXKy"
      },
      "source": [
        "#### B. Data Formats\n",
        "\n",
        "Your project should include data that comes in different file formats.  For example: HL7, EDI, HTML, CSV, Excel, JSON, XML.  List what data formats you're planning to use."
      ]
    },
    {
      "cell_type": "markdown",
      "metadata": {
        "id": "d89b9snkiXKy"
      },
      "source": [
        "The data formats planned for use include:\n",
        "\n",
        "CSV - for datasets like patient demographics and outcomes.\n",
        "JSON - for hospital metadata and configuration files.\n",
        "Excel - for financial data or reports that are updated monthly.\n",
        "HTML - to scrape specific data points if required from medical sites\n"
      ]
    },
    {
      "cell_type": "markdown",
      "metadata": {
        "id": "zJfF5ucRiXKy"
      },
      "source": [
        "#### C. Objective\n",
        "\n",
        "What purpose would your project serve in a real work setting?  Take a couple of paragraphs to write down why this is an interesting product."
      ]
    },
    {
      "cell_type": "markdown",
      "metadata": {
        "id": "NQj8S6R5iXKz"
      },
      "source": [
        "The objective of my project is to create a dashboard that helps hospitals monitor their quality and performance metrics. The tool will aggregate data from multiple sources (such as patient records, outcome measures, and operational metrics) and present key insights to help hospital administrators make data-driven decisions.\n",
        "\n",
        "This project is relevant because, in a healthcare setting, tracking performance metrics such as readmission rates, infection rates, and patient satisfaction scores is crucial for both patient safety and regulatory compliance. The project will offer a comprehensive view of a hospital's operations and quality indicators, allowing for early identification of areas needing improvement, better resource allocation, and ultimately, improved patient outcomes.\n"
      ]
    },
    {
      "cell_type": "markdown",
      "metadata": {
        "id": "j80ZZ4_FiXKz"
      },
      "source": [
        "\n",
        "\n",
        "---\n",
        "\n",
        "\n",
        "\n",
        "## Submit your work via GitHub as normal\n"
      ]
    }
  ],
  "metadata": {
    "kernelspec": {
      "display_name": "Python 3",
      "language": "python",
      "name": "python3"
    },
    "language_info": {
      "codemirror_mode": {
        "name": "ipython",
        "version": 3
      },
      "file_extension": ".py",
      "mimetype": "text/x-python",
      "name": "python",
      "nbconvert_exporter": "python",
      "pygments_lexer": "ipython3",
      "version": "3.9.16"
    },
    "colab": {
      "provenance": [],
      "include_colab_link": true
    }
  },
  "nbformat": 4,
  "nbformat_minor": 0
}