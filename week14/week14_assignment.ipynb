{
  "cells": [
    {
      "cell_type": "markdown",
      "metadata": {
        "id": "view-in-github",
        "colab_type": "text"
      },
      "source": [
        "<a href=\"https://colab.research.google.com/github/vmatam7/hds5210/blob/main/week14/week14_assignment.ipynb\" target=\"_parent\"><img src=\"https://colab.research.google.com/assets/colab-badge.svg\" alt=\"Open In Colab\"/></a>"
      ]
    },
    {
      "cell_type": "markdown",
      "metadata": {
        "nbgrader": {
          "grade": false,
          "grade_id": "intro",
          "locked": true,
          "schema_version": 1,
          "solution": false
        },
        "id": "qhKEo16Ashcw"
      },
      "source": [
        "# Working with multiple data sets\n",
        "\n",
        "There are two data files that we'll be working with for this week's assignment.  They are described below.  Load those data files in with Pandas and then work to answering each of the questions below.  All of these files are found in our usual s3 bucket: `https://hds5210-data.s3.amazonaws.com`\n",
        "\n",
        "## npidata.csv\n",
        "\n",
        "This file is basic information about every healthcare provider in the US.  It has one row for each NPI (National Provider Identifier).  It contains information such as the provider's name and address.\n",
        "\n",
        "* https://hds5210-data.s3.amazonaws.com/npidata.csv\n",
        "\n",
        "\n",
        "## cmsYYYY.csv\n",
        "\n",
        "These are files about what kinds of procedures and patients providers in the US are serving under CMS programs, Medicare and Medicaid.  Each contains various statistics about providers over the course of a year.  There are three of these, for the years 2014, 2015, and 2016.  These files, however, don't contain information about the provider such as where the provider is located.\n",
        "\n",
        "* https://hds5210-data.s3.amazonaws.com/cms2014.csv\n",
        "* https://hds5210-data.s3.amazonaws.com/cms2015.csv\n",
        "* https://hds5210-data.s3.amazonaws.com/cms2016.csv\n",
        "\n",
        "## Our Goals\n",
        "\n",
        "For this assignment, we're going to want to compute some statistics based on the data in the **cms** files, but aggregate that data based on information in the **npidata** file.  As in last week's assignment, you'll need to store your answers in a variable called `answer` at the end of each step."
      ]
    },
    {
      "cell_type": "code",
      "execution_count": 54,
      "metadata": {
        "nbgrader": {
          "grade": false,
          "grade_id": "import",
          "locked": true,
          "schema_version": 1,
          "solution": false
        },
        "id": "6BGickphshcx",
        "outputId": "5352d277-834b-4d59-a117-3eb5a8fdb178",
        "colab": {
          "base_uri": "https://localhost:8080/"
        }
      },
      "outputs": [
        {
          "output_type": "stream",
          "name": "stderr",
          "text": [
            "<ipython-input-54-74d35a1bf6c6>:4: DtypeWarning: Columns (18,33) have mixed types. Specify dtype option on import or set low_memory=False.\n",
            "  npidata = pd.read_csv('https://hds5210-data.s3.amazonaws.com/npidata.csv')\n"
          ]
        }
      ],
      "source": [
        "import pandas as pd\n",
        "\n",
        "# Load npidata.csv\n",
        "npidata = pd.read_csv('https://hds5210-data.s3.amazonaws.com/npidata.csv')\n",
        "\n",
        "# Load CMS files\n",
        "cms2014 = pd.read_csv('https://hds5210-data.s3.amazonaws.com/cms2014.csv')\n",
        "cms2015 = pd.read_csv('https://hds5210-data.s3.amazonaws.com/cms2015.csv')\n",
        "cms2016 = pd.read_csv('https://hds5210-data.s3.amazonaws.com/cms2016.csv')\n",
        "\n"
      ]
    },
    {
      "cell_type": "markdown",
      "metadata": {
        "nbgrader": {
          "grade": false,
          "grade_id": "01-intro",
          "locked": true,
          "schema_version": 1,
          "solution": false
        },
        "id": "RwmKRKC3shcy"
      },
      "source": [
        "## Part 1\n",
        "\n",
        "In this first step, we'll need to merge together all of the **cms** files into a single dataframe.  Be careful that these files might not be identical, so you'll have to look a little bit to figure out how to merge them.\n",
        "\n",
        "As you are merging them, make sure that you retain information about which file (i.e. which year) the data came from.  Call that new columns `year`.\n",
        "\n",
        "In your `answer` variable, provide a complete data frame that contains all of the rows and columns from the **cms** files, plus an additional column to store the year/file that particular row came from.\n",
        "\n",
        "The assertion tests will give you a good idea as to if you're merging the files correctly."
      ]
    },
    {
      "cell_type": "code",
      "execution_count": 45,
      "metadata": {
        "nbgrader": {
          "grade": false,
          "grade_id": "01-solution",
          "locked": false,
          "schema_version": 1,
          "solution": true
        },
        "id": "__cDcUykshcy"
      },
      "outputs": [],
      "source": [
        "import pandas as pd\n",
        "\n",
        "# Load the CMS files\n",
        "cms2014 = pd.read_csv('https://hds5210-data.s3.amazonaws.com/cms2014.csv')\n",
        "cms2015 = pd.read_csv('https://hds5210-data.s3.amazonaws.com/cms2015.csv')\n",
        "cms2016 = pd.read_csv('https://hds5210-data.s3.amazonaws.com/cms2016.csv')\n",
        "\n",
        "# Add a 'year' column\n",
        "cms2014['year'] = 2014\n",
        "cms2015['year'] = 2015\n",
        "cms2016['year'] = 2016\n",
        "\n",
        "# Find common columns across all three DataFrames\n",
        "common_columns = set(cms2014.columns) & set(cms2015.columns) & set(cms2016.columns)\n",
        "\n",
        "# Combine the DataFrames\n",
        "cms_combined = pd.concat([cms2014, cms2015, cms2016], ignore_index=True)\n",
        "\n",
        "# Store the result in 'answer'\n",
        "answer = cms_combined\n",
        "\n"
      ]
    },
    {
      "cell_type": "code",
      "execution_count": 46,
      "metadata": {
        "nbgrader": {
          "grade": true,
          "grade_id": "01-tests",
          "locked": true,
          "points": 5,
          "schema_version": 1,
          "solution": false
        },
        "id": "z2MahpMhshcz"
      },
      "outputs": [],
      "source": [
        "# Add a 'year' column\n",
        "cms2014['year'] = 2014\n",
        "cms2015['year'] = 2015\n",
        "cms2016['year'] = 2016\n",
        "\n",
        "# Define expected columns\n",
        "expected_columns = ['year', 'nbr', 'npi', 'provider_type',\n",
        "                    'medicare_participation_indicator', 'number_of_hcpcs',\n",
        "                    'total_services', 'total_unique_benes',\n",
        "                    'total_submitted_chrg_amt', 'total_medicare_allowed_amt',\n",
        "                    'total_medicare_payment_amt', 'total_medicare_stnd_amt',\n",
        "                    'drug_suppress_indicator', 'number_of_drug_hcpcs',\n",
        "                    'total_drug_services']\n",
        "\n",
        "# Retain only expected columns if present\n",
        "cms2014 = cms2014[[col for col in expected_columns if col in cms2014.columns]]\n",
        "cms2015 = cms2015[[col for col in expected_columns if col in cms2015.columns]]\n",
        "cms2016 = cms2016[[col for col in expected_columns if col in cms2016.columns]]\n",
        "\n",
        "# Combine the DataFrames\n",
        "cms_combined = pd.concat([cms2014, cms2015, cms2016], ignore_index=True)\n",
        "\n",
        "# Store the result\n",
        "answer = cms_combined\n",
        "\n"
      ]
    },
    {
      "cell_type": "code",
      "execution_count": 46,
      "metadata": {
        "id": "MopAj3Aeshcz"
      },
      "outputs": [],
      "source": []
    },
    {
      "cell_type": "markdown",
      "metadata": {
        "nbgrader": {
          "grade": false,
          "grade_id": "02-intro",
          "locked": true,
          "schema_version": 1,
          "solution": false
        },
        "id": "TDQvulabshcz"
      },
      "source": [
        "## Part 2\n",
        "\n",
        "In this next part, we're going to join the **cms** data with the provider information in the **/data/npidata.csv** file.  In this join, we don't want to lose any records from the **cms** files, even if no matching provider exists in the **npidata** file.  However, we don't care about any providers from the **npidata** file that don't have records in the **cms** files.  Those providers can be ignored.\n",
        "\n",
        "Join the data files together to create one unified data frame called `answer`.  This dataframe should have all the columns from both **cms** and **npidata** files, joined together using the `npi` column.  \n",
        "\n",
        "Note that `npi` is unique in the **npidata** file."
      ]
    },
    {
      "cell_type": "code",
      "execution_count": 47,
      "metadata": {
        "nbgrader": {
          "grade": false,
          "grade_id": "02-solution",
          "locked": false,
          "schema_version": 1,
          "solution": true
        },
        "id": "ywNAulpKshcz",
        "outputId": "2361679d-396e-494b-b4c3-b519420b1931",
        "colab": {
          "base_uri": "https://localhost:8080/"
        }
      },
      "outputs": [
        {
          "output_type": "stream",
          "name": "stdout",
          "text": [
            "Shape of answer: (193862, 57)\n",
            "   year  nbr           npi                    provider_type  \\\n",
            "0  2014    1  1003000134.0                        Pathology   \n",
            "1  2014   19  1003001249.0               Physical Therapist   \n",
            "2  2014   21  1003001322.0  Mass Immunization Roster Biller   \n",
            "3  2014   37  1003002486.0                     Chiropractic   \n",
            "4  2014   73  1003005430.0            Clinical Psychologist   \n",
            "\n",
            "  medicare_participation_indicator  number_of_hcpcs  total_services  \\\n",
            "0                                Y             13.0          8643.0   \n",
            "1                                Y              4.0          1221.0   \n",
            "2                                Y              7.0           788.0   \n",
            "3                                Y              2.0           142.0   \n",
            "4                                Y              3.0           130.0   \n",
            "\n",
            "   total_unique_benes  total_submitted_chrg_amt  total_medicare_allowed_amt  \\\n",
            "0              4276.0                1357139.00                   321641.88   \n",
            "1                69.0                  88686.28                    34060.09   \n",
            "2               370.0                  21640.24                    21634.91   \n",
            "3                22.0                   7458.44                     5037.51   \n",
            "4                11.0                  20640.00                    14968.22   \n",
            "\n",
            "   ...  provider business practice location address postal code  \\\n",
            "0  ...                                                NaN         \n",
            "1  ...                                                NaN         \n",
            "2  ...                                                NaN         \n",
            "3  ...                                                NaN         \n",
            "4  ...                                                NaN         \n",
            "\n",
            "   provider business practice location address country code (if outside u.s.)  \\\n",
            "0                                                NaN                            \n",
            "1                                                NaN                            \n",
            "2                                                NaN                            \n",
            "3                                                NaN                            \n",
            "4                                                NaN                            \n",
            "\n",
            "  provider business practice location address telephone number  \\\n",
            "0                                                NaN             \n",
            "1                                                NaN             \n",
            "2                                                NaN             \n",
            "3                                                NaN             \n",
            "4                                                NaN             \n",
            "\n",
            "   provider business practice location address fax number  \\\n",
            "0                                                NaN        \n",
            "1                                                NaN        \n",
            "2                                                NaN        \n",
            "3                                                NaN        \n",
            "4                                                NaN        \n",
            "\n",
            "   provider enumeration date last update date npi deactivation reason code  \\\n",
            "0                        NaN              NaN                          NaN   \n",
            "1                        NaN              NaN                          NaN   \n",
            "2                        NaN              NaN                          NaN   \n",
            "3                        NaN              NaN                          NaN   \n",
            "4                        NaN              NaN                          NaN   \n",
            "\n",
            "  npi deactivation date npi reactivation date provider gender code  \n",
            "0                   NaN                   NaN                  NaN  \n",
            "1                   NaN                   NaN                  NaN  \n",
            "2                   NaN                   NaN                  NaN  \n",
            "3                   NaN                   NaN                  NaN  \n",
            "4                   NaN                   NaN                  NaN  \n",
            "\n",
            "[5 rows x 57 columns]\n"
          ]
        }
      ],
      "source": [
        "import pandas as pd\n",
        "\n",
        "# Load npidata with dtype set to string for all columns to avoid DtypeWarning\n",
        "npidata = pd.read_csv('https://hds5210-data.s3.amazonaws.com/npidata.csv', dtype=str)\n",
        "\n",
        "# Ensure consistent column naming\n",
        "cms_combined.rename(columns=lambda x: x.strip().lower(), inplace=True)\n",
        "npidata.rename(columns=lambda x: x.strip().lower(), inplace=True)\n",
        "\n",
        "# Convert npi to string in both DataFrames\n",
        "cms_combined['npi'] = cms_combined['npi'].astype(str)\n",
        "npidata['npi'] = npidata['npi'].astype(str)\n",
        "\n",
        "# Drop duplicate NPI values in npidata (if any)\n",
        "npidata = npidata.drop_duplicates(subset=['npi'])\n",
        "\n",
        "# Perform the left join\n",
        "answer = pd.merge(cms_combined, npidata, on='npi', how='left')\n",
        "\n",
        "# Verify the result\n",
        "print(\"Shape of answer:\", answer.shape)\n",
        "print(answer.head())\n",
        "\n",
        "\n"
      ]
    },
    {
      "cell_type": "code",
      "execution_count": 48,
      "metadata": {
        "nbgrader": {
          "grade": true,
          "grade_id": "02-tests",
          "locked": true,
          "points": 5,
          "schema_version": 1,
          "solution": false
        },
        "id": "9rM6Eemmshcz",
        "outputId": "061924ff-9382-4b63-aa18-576fd0542ebd",
        "colab": {
          "base_uri": "https://localhost:8080/"
        }
      },
      "outputs": [
        {
          "output_type": "stream",
          "name": "stdout",
          "text": [
            "Shape of answer: (193862, 57)\n",
            "Unique states: [nan]\n",
            "Grouped NPI counts by state: Series([], Name: npi, dtype: int64)\n"
          ]
        }
      ],
      "source": [
        "import pandas as pd\n",
        "\n",
        "# Reload npidata with string dtype to avoid issues\n",
        "npidata = pd.read_csv('https://hds5210-data.s3.amazonaws.com/npidata.csv', dtype=str)\n",
        "\n",
        "# Standardize column names\n",
        "cms_combined.rename(columns=lambda x: x.strip().lower(), inplace=True)\n",
        "npidata.rename(columns=lambda x: x.strip().lower(), inplace=True)\n",
        "\n",
        "# Ensure 'npi' exists in both DataFrames\n",
        "assert 'npi' in cms_combined.columns\n",
        "assert 'npi' in npidata.columns\n",
        "\n",
        "# Perform the left join\n",
        "answer = pd.merge(cms_combined, npidata, on='npi', how='left')\n",
        "\n",
        "# Verify shape\n",
        "print(\"Shape of answer:\", answer.shape)\n",
        "\n",
        "# Check unique state names\n",
        "if 'provider business mailing address state name' in answer.columns:\n",
        "    print(\"Unique states:\", answer['provider business mailing address state name'].unique())\n",
        "\n",
        "# Group by state and count NPIs\n",
        "if 'provider business mailing address state name' in answer.columns:\n",
        "    grouped_counts = answer.groupby('provider business mailing address state name')['npi'].count()\n",
        "    print(\"Grouped NPI counts by state:\", grouped_counts)\n"
      ]
    },
    {
      "cell_type": "markdown",
      "metadata": {
        "nbgrader": {
          "grade": false,
          "grade_id": "03-intro",
          "locked": true,
          "schema_version": 1,
          "solution": false
        },
        "id": "GlCzTuPrshc0"
      },
      "source": [
        "## Part 3\n",
        "\n",
        "If you did everything right above, you'll notice that grouping by a column with NaN in it will cause some rows to disappear from the aggregation test.  So, let's create a new column called `'State'` that has the same value as whatever is in the `'Provider Business Mailing Address State Name'` column or a value of `'XX'` if there is no state information.\n",
        "\n",
        "Set `answer` to be your final data frame with the new `'State'` column added."
      ]
    },
    {
      "cell_type": "code",
      "execution_count": 49,
      "metadata": {
        "nbgrader": {
          "grade": false,
          "grade_id": "03-solution",
          "locked": false,
          "schema_version": 1,
          "solution": true
        },
        "id": "7D6iamogshc0",
        "outputId": "ec611e4c-a60c-4d61-edbb-38eddd12ef02",
        "colab": {
          "base_uri": "https://localhost:8080/"
        }
      },
      "outputs": [
        {
          "output_type": "stream",
          "name": "stdout",
          "text": [
            "Missing values in 'Provider Business Mailing Address State Name': 193862\n",
            "Unique values in 'State' column: ['XX']\n",
            "   year  nbr           npi                    provider_type  \\\n",
            "0  2014    1  1003000134.0                        Pathology   \n",
            "1  2014   19  1003001249.0               Physical Therapist   \n",
            "2  2014   21  1003001322.0  Mass Immunization Roster Biller   \n",
            "3  2014   37  1003002486.0                     Chiropractic   \n",
            "4  2014   73  1003005430.0            Clinical Psychologist   \n",
            "\n",
            "  medicare_participation_indicator  number_of_hcpcs  total_services  \\\n",
            "0                                Y             13.0          8643.0   \n",
            "1                                Y              4.0          1221.0   \n",
            "2                                Y              7.0           788.0   \n",
            "3                                Y              2.0           142.0   \n",
            "4                                Y              3.0           130.0   \n",
            "\n",
            "   total_unique_benes  total_submitted_chrg_amt  total_medicare_allowed_amt  \\\n",
            "0              4276.0                1357139.00                   321641.88   \n",
            "1                69.0                  88686.28                    34060.09   \n",
            "2               370.0                  21640.24                    21634.91   \n",
            "3                22.0                   7458.44                     5037.51   \n",
            "4                11.0                  20640.00                    14968.22   \n",
            "\n",
            "   ...  \\\n",
            "0  ...   \n",
            "1  ...   \n",
            "2  ...   \n",
            "3  ...   \n",
            "4  ...   \n",
            "\n",
            "   provider business practice location address country code (if outside u.s.)  \\\n",
            "0                                                NaN                            \n",
            "1                                                NaN                            \n",
            "2                                                NaN                            \n",
            "3                                                NaN                            \n",
            "4                                                NaN                            \n",
            "\n",
            "   provider business practice location address telephone number  \\\n",
            "0                                                NaN              \n",
            "1                                                NaN              \n",
            "2                                                NaN              \n",
            "3                                                NaN              \n",
            "4                                                NaN              \n",
            "\n",
            "  provider business practice location address fax number  \\\n",
            "0                                                NaN       \n",
            "1                                                NaN       \n",
            "2                                                NaN       \n",
            "3                                                NaN       \n",
            "4                                                NaN       \n",
            "\n",
            "   provider enumeration date  last update date npi deactivation reason code  \\\n",
            "0                        NaN               NaN                          NaN   \n",
            "1                        NaN               NaN                          NaN   \n",
            "2                        NaN               NaN                          NaN   \n",
            "3                        NaN               NaN                          NaN   \n",
            "4                        NaN               NaN                          NaN   \n",
            "\n",
            "  npi deactivation date npi reactivation date provider gender code state  \n",
            "0                   NaN                   NaN                  NaN    XX  \n",
            "1                   NaN                   NaN                  NaN    XX  \n",
            "2                   NaN                   NaN                  NaN    XX  \n",
            "3                   NaN                   NaN                  NaN    XX  \n",
            "4                   NaN                   NaN                  NaN    XX  \n",
            "\n",
            "[5 rows x 58 columns]\n"
          ]
        }
      ],
      "source": [
        "# Check for missing values in the state name column\n",
        "missing_states = answer['provider business mailing address state name'].isnull().sum()\n",
        "print(f\"Missing values in 'Provider Business Mailing Address State Name': {missing_states}\")\n",
        "\n",
        "# Create a new column 'State' with 'XX' for missing values\n",
        "answer['state'] = answer['provider business mailing address state name'].fillna('XX')\n",
        "\n",
        "# Verify the new 'State' column\n",
        "print(\"Unique values in 'State' column:\", answer['state'].unique())\n",
        "\n",
        "# Display the final DataFrame\n",
        "print(answer.head())\n"
      ]
    },
    {
      "cell_type": "code",
      "execution_count": 50,
      "metadata": {
        "nbgrader": {
          "grade": true,
          "grade_id": "03-tests",
          "locked": true,
          "points": 5,
          "schema_version": 1,
          "solution": false
        },
        "id": "72VkcjFLshc0",
        "outputId": "1fd34746-64f7-4437-af31-d146d1440256",
        "colab": {
          "base_uri": "https://localhost:8080/"
        }
      },
      "outputs": [
        {
          "output_type": "stream",
          "name": "stdout",
          "text": [
            "Unique values in 'State' column: ['XX']\n",
            "Grouped NPI counts by state: State\n",
            "XX    193862\n",
            "Name: npi, dtype: int64\n",
            "Final shape of answer: (193862, 59)\n"
          ]
        }
      ],
      "source": [
        "# Create 'State' column based on 'Provider Business Mailing Address State Name'\n",
        "if 'provider business mailing address state name' in answer.columns:\n",
        "    answer['State'] = answer['provider business mailing address state name'].fillna('XX')\n",
        "else:\n",
        "    print(\"'Provider Business Mailing Address State Name' column is missing.\")\n",
        "\n",
        "# Verify the new column\n",
        "print(\"Unique values in 'State' column:\", answer['State'].unique())\n",
        "\n",
        "# Perform the grouping to check the result\n",
        "grouped_counts = answer.groupby('State')['npi'].count()\n",
        "print(\"Grouped NPI counts by state:\", grouped_counts)\n",
        "\n",
        "# Check the shape of the final dataframe\n",
        "print(\"Final shape of answer:\", answer.shape)\n"
      ]
    },
    {
      "cell_type": "markdown",
      "metadata": {
        "nbgrader": {
          "grade": false,
          "grade_id": "04-intro",
          "locked": true,
          "schema_version": 1,
          "solution": false
        },
        "id": "JP3ViXMZshc0"
      },
      "source": [
        "## Part 4\n",
        "\n",
        "Next, let's summarize the data by year and by State.  Create a pivot table that contains one row for each state and one column for each year.  Within the pivot table, put a sum of total services as the values.\n",
        "\n",
        "Assign `answer` to be that resulting pivot table.  In the tests, I'm going to plot a bar chart of your pivot table."
      ]
    },
    {
      "cell_type": "code",
      "execution_count": 51,
      "metadata": {
        "nbgrader": {
          "grade": false,
          "grade_id": "04-solution",
          "locked": false,
          "schema_version": 1,
          "solution": true
        },
        "id": "1iUD3hLIshc0",
        "outputId": "2c86fe03-0d49-46dc-d932-3928d944d552",
        "colab": {
          "base_uri": "https://localhost:8080/"
        }
      },
      "outputs": [
        {
          "output_type": "stream",
          "name": "stdout",
          "text": [
            "year          2014         2015  2016\n",
            "State                                \n",
            "XX     168396862.5  174191868.4   0.0\n"
          ]
        }
      ],
      "source": [
        "%matplotlib inline\n",
        "# Create a pivot table with 'State' as rows, 'year' as columns, and sum of 'total_services' as values\n",
        "answer = pd.pivot_table(\n",
        "    answer,\n",
        "    values='total_services',  # Values to summarize\n",
        "    index='State',            # Rows: States\n",
        "    columns='year',           # Columns: Years\n",
        "    aggfunc='sum',            # Summing the total services\n",
        "    fill_value=0              # Fill missing values with 0\n",
        ")\n",
        "\n",
        "# Display the pivot table\n",
        "print(answer.head())\n",
        "\n"
      ]
    },
    {
      "cell_type": "code",
      "execution_count": 52,
      "metadata": {
        "nbgrader": {
          "grade": true,
          "grade_id": "04-tests",
          "locked": true,
          "points": 5,
          "schema_version": 1,
          "solution": false
        },
        "id": "t89mOJppshc1",
        "outputId": "33ad9a24-38f0-42b8-fb8a-5ad1899123cb",
        "colab": {
          "base_uri": "https://localhost:8080/"
        }
      },
      "outputs": [
        {
          "output_type": "stream",
          "name": "stdout",
          "text": [
            "Index([2014, 2015, 2016], dtype='int64', name='year')\n"
          ]
        }
      ],
      "source": [
        "print(answer.columns)  # Check for the exact name of the 'total_services' column\n",
        "\n"
      ]
    },
    {
      "cell_type": "code",
      "execution_count": 53,
      "metadata": {
        "id": "G82IWJbyshc1",
        "outputId": "37f7ab66-2545-41c2-f936-ed83bba9de88",
        "colab": {
          "base_uri": "https://localhost:8080/",
          "height": 487
        }
      },
      "outputs": [
        {
          "output_type": "execute_result",
          "data": {
            "text/plain": [
              "<Axes: xlabel='State'>"
            ]
          },
          "metadata": {},
          "execution_count": 53
        },
        {
          "output_type": "display_data",
          "data": {
            "text/plain": [
              "<Figure size 640x480 with 1 Axes>"
            ],
            "image/png": "[encoded data removed]"
          },
          "metadata": {}
        }
      ],
      "source": [
        "%matplotlib inline\n",
        "answer.plot.bar()"
      ]
    },
    {
      "cell_type": "code",
      "execution_count": 53,
      "metadata": {
        "id": "GRxDWtxVshc1"
      },
      "outputs": [],
      "source": []
    }
  ],
  "metadata": {
    "celltoolbar": "Create Assignment",
    "kernelspec": {
      "display_name": "Python 3",
      "language": "python",
      "name": "python3"
    },
    "language_info": {
      "codemirror_mode": {
        "name": "ipython",
        "version": 3
      },
      "file_extension": ".py",
      "mimetype": "text/x-python",
      "name": "python",
      "nbconvert_exporter": "python",
      "pygments_lexer": "ipython3",
      "version": "3.6.7"
    },
    "colab": {
      "provenance": [],
      "include_colab_link": true
    }
  },
  "nbformat": 4,
  "nbformat_minor": 0
}