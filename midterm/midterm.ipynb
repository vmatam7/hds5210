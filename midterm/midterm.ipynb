{
  "cells": [
    {
      "cell_type": "markdown",
      "metadata": {
        "id": "view-in-github",
        "colab_type": "text"
      },
      "source": [
        "<a href=\"https://colab.research.google.com/github/vmatam7/hds5210/blob/main/midterm/midterm.ipynb\" target=\"_parent\"><img src=\"https://colab.research.google.com/assets/colab-badge.svg\" alt=\"Open In Colab\"/></a>"
      ]
    },
    {
      "cell_type": "markdown",
      "metadata": {
        "id": "ZTL6iP0O8dwd"
      },
      "source": [
        "### Mid-term for HDS5210\n",
        "\n",
        "Your supervisor is concerned about 4-year survival risks for COPD. She has asked for you to do some analysis using a new metric, BODE. BODE is an improvement on a previous metric and promises to provide insight on survival risks.\n",
        "\n",
        "BODE is defined here. https://www.mdcalc.com/calc/3916/bode-index-copd-survival#evidence\n",
        "\n",
        "Your assignment is to create a BODE calculation, use it to calculate BODE scores and BODE survival rates for a group of patients. Then we want to evaluate the average BODE scores and BODE survival rates for each area hospital.\n",
        "\n",
        "Your patient input file will have the following columns:\n",
        "NAME,SSN,LANGUAGE,JOB,HEIGHT_M,WEIGHT_KG,fev_pct,dyspnea_description,distance_in_meters,hospital\n",
        "\n",
        "BODE calculations require a BMI value, so you will have to create a function for it.\n",
        "\n",
        "Your output should be in the form of two CSV files, patient_output.csv and hospital_output.csv.\n",
        "\n",
        "Patient_output will have the following columns:\n",
        "NAME,BODE_SCORE,BODE_RISK,HOSPITAL\n",
        "\n",
        "Hospital output will have the following columns:\n",
        "HOSPITAL_NAME, COPD_COUNT, PCT_OF_COPD_CASES_OVER_BEDS, AVG_SCORE, AVG_RISK\n",
        "\n",
        "Each function you create should have documentation and a suitable number of test cases. If the input data could be wrong, make sure to raise a Value Error.\n",
        "\n",
        "For this assignment, use the doctest, json, and csv libraries. Pandas is not allowed for this assignment."
      ]
    },
    {
      "cell_type": "code",
      "execution_count": 37,
      "metadata": {
        "id": "hh3a81468dwg"
      },
      "outputs": [],
      "source": [
        "import doctest\n",
        "import json\n",
        "import csv"
      ]
    },
    {
      "cell_type": "markdown",
      "metadata": {
        "id": "upoO6HD28dwh"
      },
      "source": [
        "### Step 1: Calculate BMI"
      ]
    },
    {
      "cell_type": "code",
      "execution_count": 38,
      "metadata": {
        "id": "Ir3RvcwH8dwh",
        "outputId": "62a7ca2d-78da-4eaa-e6e8-56a2c305a8c6",
        "colab": {
          "base_uri": "https://localhost:8080/"
        }
      },
      "outputs": [
        {
          "output_type": "stream",
          "name": "stdout",
          "text": [
            "BMI: 22.86\n"
          ]
        }
      ],
      "source": [
        "def calculate_bmi(weight_kg, height_m):\n",
        "    \"\"\"\n",
        "    Calculate Body Mass Index (BMI).\n",
        "\n",
        "    Parameters:\n",
        "    weight_kg (float): Weight in kilograms.\n",
        "    height_m (float): Height in meters.\n",
        "\n",
        "    Returns:\n",
        "    float: Calculated BMI.\n",
        "\n",
        "    Raises:\n",
        "    ValueError: If weight or height is non-positive.\n",
        "\n",
        "    Examples:\n",
        "    >>> calculate_bmi(70, 1.75)\n",
        "    22.857142857142858\n",
        "    >>> calculate_bmi(0, 1.75)\n",
        "    Traceback (most recent call last):\n",
        "        ...\n",
        "    ValueError: Weight and height must be positive values.\n",
        "    >>> calculate_bmi(70, 0)\n",
        "    Traceback (most recent call last):\n",
        "        ...\n",
        "    ValueError: Weight and height must be positive values.\n",
        "    \"\"\"\n",
        "    if weight_kg <= 0 or height_m <= 0:\n",
        "        raise ValueError(\"Weight and height must be positive values.\")\n",
        "\n",
        "    return weight_kg / (height_m ** 2)\n",
        "bmi = calculate_bmi(70, 1.75)\n",
        "print(f\"BMI: {bmi:.2f}\")"
      ]
    },
    {
      "cell_type": "markdown",
      "metadata": {
        "id": "LKW9KDXN8dwh"
      },
      "source": [
        "### Step 2: Calculate BODE Score"
      ]
    },
    {
      "cell_type": "code",
      "execution_count": 39,
      "metadata": {
        "id": "MjhaaMNZ8dwi",
        "outputId": "98639dc0-7ed0-4f39-c5c6-32da1ec823f9",
        "colab": {
          "base_uri": "https://localhost:8080/"
        }
      },
      "outputs": [
        {
          "output_type": "stream",
          "name": "stdout",
          "text": [
            "BODE Score: 6, BODE Risk: 0.14\n"
          ]
        }
      ],
      "source": [
        "def calculate_bode_score(fev_pct, dyspnea_description, distance_in_meters):\n",
        "    \"\"\"\n",
        "    Calculate the BODE score and risk.\n",
        "\n",
        "    Parameters:\n",
        "    fev_pct (float): FEV1 % predicted.\n",
        "    dyspnea_description (str): Dyspnea description ('none', 'mild', 'moderate', 'severe').\n",
        "    distance_in_meters (float): Distance walked in 6 minutes.\n",
        "\n",
        "    Returns:\n",
        "    tuple: (BODE Score, BODE Risk)\n",
        "\n",
        "    Raises:\n",
        "    ValueError: If inputs are invalid.\n",
        "\n",
        "    Examples:\n",
        "    >>> calculate_bode_score(60, 'none', 200)\n",
        "    (1, 0.5)\n",
        "    >>> calculate_bode_score(30, 'severe', 100)\n",
        "    (7, 0.125)\n",
        "    >>> calculate_bode_score(40, 'unknown', 200)\n",
        "    Traceback (most recent call last):\n",
        "        ...\n",
        "    ValueError: Invalid input values for FEV1, distance, or dyspnea description.\n",
        "    \"\"\"\n",
        "    # Dyspnea scoring scale\n",
        "    dyspnea_scale = {\n",
        "        'none': 0,\n",
        "        'mild': 1,\n",
        "        'moderate': 2,\n",
        "        'severe': 3\n",
        "    }\n",
        "\n",
        "    if fev_pct < 0 or distance_in_meters < 0 or dyspnea_description not in dyspnea_scale:\n",
        "        raise ValueError(\"Invalid input values for FEV1, distance, or dyspnea description.\")\n",
        "\n",
        "    # FEV1 score\n",
        "    if fev_pct >= 65:\n",
        "        fev_score = 0\n",
        "    elif 50 <= fev_pct < 65:\n",
        "        fev_score = 1\n",
        "    elif 36 <= fev_pct < 50:\n",
        "        fev_score = 2\n",
        "    else:\n",
        "        fev_score = 3\n",
        "\n",
        "    # Dyspnea score\n",
        "    dyspnea_score = dyspnea_scale[dyspnea_description]\n",
        "\n",
        "    # Distance score\n",
        "    if distance_in_meters >= 350:\n",
        "        distance_score = 0\n",
        "    elif 250 <= distance_in_meters < 350:\n",
        "        distance_score = 1\n",
        "    elif 150 <= distance_in_meters < 250:\n",
        "        distance_score = 2\n",
        "    else:\n",
        "        distance_score = 3\n",
        "\n",
        "    # Total BODE score\n",
        "    bode_score = fev_score + dyspnea_score + distance_score\n",
        "\n",
        "    # BODE risk: simplified as 1 / (1 + score)\n",
        "    bode_risk = 1 / (1 + bode_score)\n",
        "\n",
        "    return bode_score, bode_risk\n",
        "bode_score, bode_risk = calculate_bode_score(40, 'moderate', 200)\n",
        "print(f\"BODE Score: {bode_score}, BODE Risk: {bode_risk:.2f}\")\n"
      ]
    },
    {
      "cell_type": "markdown",
      "metadata": {
        "id": "2hmHS6hC8dwi"
      },
      "source": [
        "### Step 3: Calculate BODE Risk"
      ]
    },
    {
      "cell_type": "code",
      "execution_count": 40,
      "metadata": {
        "id": "T3S3NmlV8dwi",
        "outputId": "ac20e4f7-cac8-4113-e13c-a04bbe0170ea",
        "colab": {
          "base_uri": "https://localhost:8080/"
        }
      },
      "outputs": [
        {
          "output_type": "stream",
          "name": "stdout",
          "text": [
            "BODE Score: 6, BODE Risk: 0.1429\n"
          ]
        }
      ],
      "source": [
        "def calculate_bode_score(fev_pct, dyspnea_description, distance_in_meters):\n",
        "    \"\"\"\n",
        "    Calculate the BODE score and risk.\n",
        "\n",
        "    Parameters:\n",
        "    fev_pct (float): FEV1 % predicted.\n",
        "    dyspnea_description (str): Dyspnea description ('none', 'mild', 'moderate', 'severe').\n",
        "    distance_in_meters (float): Distance walked in 6 minutes.\n",
        "\n",
        "    Returns:\n",
        "    tuple: (BODE Score, BODE Risk)\n",
        "\n",
        "    Raises:\n",
        "    ValueError: If inputs are invalid.\n",
        "\n",
        "    Examples:\n",
        "    >>> calculate_bode_score(60, 'none', 200)\n",
        "    (1, 0.5)\n",
        "    >>> calculate_bode_score(30, 'severe', 100)\n",
        "    (7, 0.125)\n",
        "    >>> calculate_bode_score(40, 'unknown', 200)\n",
        "    Traceback (most recent call last):\n",
        "        ...\n",
        "    ValueError: Invalid input values for FEV1, distance, or dyspnea description.\n",
        "    \"\"\"\n",
        "    # Dyspnea scoring scale\n",
        "    dyspnea_scale = {\n",
        "        'none': 0,\n",
        "        'mild': 1,\n",
        "        'moderate': 2,\n",
        "        'severe': 3\n",
        "    }\n",
        "\n",
        "    if fev_pct < 0 or distance_in_meters < 0 or dyspnea_description not in dyspnea_scale:\n",
        "        raise ValueError(\"Invalid input values for FEV1, distance, or dyspnea description.\")\n",
        "\n",
        "    # FEV1 score\n",
        "    if fev_pct >= 65:\n",
        "        fev_score = 0\n",
        "    elif 50 <= fev_pct < 65:\n",
        "        fev_score = 1\n",
        "    elif 36 <= fev_pct < 50:\n",
        "        fev_score = 2\n",
        "    else:\n",
        "        fev_score = 3\n",
        "\n",
        "    # Dyspnea score\n",
        "    dyspnea_score = dyspnea_scale[dyspnea_description]\n",
        "\n",
        "    # Distance score\n",
        "    if distance_in_meters >= 350:\n",
        "        distance_score = 0\n",
        "    elif 250 <= distance_in_meters < 350:\n",
        "        distance_score = 1\n",
        "    elif 150 <= distance_in_meters < 250:\n",
        "        distance_score = 2\n",
        "    else:\n",
        "        distance_score = 3\n",
        "\n",
        "    # Total BODE score\n",
        "    bode_score = fev_score + dyspnea_score + distance_score\n",
        "\n",
        "    # BODE risk: simplified as 1 / (1 + score)\n",
        "    bode_risk = 1 / (1 + bode_score)\n",
        "\n",
        "    return bode_score, bode_risk\n",
        "# Example Usage\n",
        "fev_pct = 40  # FEV1 % predicted\n",
        "dyspnea_description = 'moderate'  # Dyspnea level\n",
        "distance_in_meters = 200  # Distance walked\n",
        "\n",
        "bode_score, bode_risk = calculate_bode_score(fev_pct, dyspnea_description, distance_in_meters)\n",
        "print(f\"BODE Score: {bode_score}, BODE Risk: {bode_risk:.4f}\")\n"
      ]
    },
    {
      "cell_type": "markdown",
      "metadata": {
        "id": "IZ2e4UmQ8dwi"
      },
      "source": [
        "### Step 4: Load Hospital Data"
      ]
    },
    {
      "cell_type": "code",
      "execution_count": 41,
      "metadata": {
        "id": "9EuvXusr8dwi"
      },
      "outputs": [],
      "source": [
        "import csv\n",
        "\n",
        "def load_patient_data(input_file):\n",
        "    \"\"\"\n",
        "    Load patient data from a CSV file.\n",
        "\n",
        "    Parameters:\n",
        "    input_file (str): Path to the input CSV file.\n",
        "\n",
        "    Returns:\n",
        "    list: List of dictionaries containing patient data.\n",
        "    \"\"\"\n",
        "    patient_data = []\n",
        "\n",
        "    with open(input_file, mode='r', newline='') as csvfile:\n",
        "        reader = csv.DictReader(csvfile)\n",
        "        for row in reader:\n",
        "            patient_data.append(row)\n",
        "\n",
        "    return patient_data\n",
        "def process_patient_data(patient_data):\n",
        "    \"\"\"\n",
        "    Process patient data to calculate BODE scores and risks.\n",
        "\n",
        "    Parameters:\n",
        "    patient_data (list): List of dictionaries containing patient data.\n",
        "\n",
        "    Returns:\n",
        "    list: Processed patient data with BODE scores and risks.\n",
        "    \"\"\"\n",
        "    processed_data = []\n",
        "\n",
        "    for row in patient_data:\n",
        "        try:\n",
        "            # Calculate BMI\n",
        "            bmi = calculate_bmi(float(row['WEIGHT_KG']), float(row['HEIGHT_M']))\n",
        "            # Calculate BODE Score and Risk\n",
        "            bode_score, bode_risk = calculate_bode_score(\n",
        "                float(row['fev_pct']),\n",
        "                row['dyspnea_description'],\n",
        "                float(row['distance_in_meters'])\n",
        "            )\n",
        "            processed_data.append({\n",
        "                'NAME': row['NAME'],\n",
        "                'BODE_SCORE': bode_score,\n",
        "                'BODE_RISK': bode_risk,\n",
        "                'HOSPITAL': row['hospital']\n",
        "            })\n",
        "        except ValueError as e:\n",
        "            print(f\"Error processing {row['NAME']}: {e}\")\n",
        "\n",
        "    return processed_data\n",
        "def aggregate_hospital_data(patient_data):\n",
        "    \"\"\"\n",
        "    Aggregate patient data by hospital.\n",
        "\n",
        "    Parameters:\n",
        "    patient_data (list): List of processed patient data.\n",
        "\n",
        "    Returns:\n",
        "    list: Aggregated hospital data with counts and averages.\n",
        "    \"\"\"\n",
        "    hospital_summary = {}\n",
        "\n",
        "    for patient in patient_data:\n",
        "        hospital = patient['HOSPITAL']\n",
        "        if hospital not in hospital_summary:\n",
        "            hospital_summary[hospital] = {\n",
        "                'COPD_COUNT': 0,\n",
        "                'TOTAL_SCORE': 0,\n",
        "                'TOTAL_RISK': 0\n",
        "            }\n",
        "\n",
        "        hospital_summary[hospital]['COPD_COUNT'] += 1\n",
        "        hospital_summary[hospital]['TOTAL_SCORE'] += patient['BODE_SCORE']\n",
        "        hospital_summary[hospital]['TOTAL_RISK'] += patient['BODE_RISK']\n",
        "\n",
        "    hospital_output = []\n",
        "    for hospital, data in hospital_summary.items():\n",
        "        avg_score = data['TOTAL_SCORE'] / data['COPD_COUNT']\n",
        "        avg_risk = data['TOTAL_RISK'] / data['COPD_COUNT']\n",
        "        hospital_output.append({\n",
        "            'HOSPITAL_NAME': hospital,\n",
        "            'COPD_COUNT': data['COPD_COUNT'],\n",
        "            'AVG_SCORE': avg_score,\n",
        "            'AVG_RISK': avg_risk\n",
        "        })\n",
        "\n",
        "    return hospital_output\n",
        "def main(input_file):\n",
        "    # Load patient data from the CSV file\n",
        "    patient_data = load_patient_data(input_file)\n",
        "    # Process patient data to calculate BODE scores and risks\n",
        "    processed_data = process_patient_data(patient_data)\n",
        "    # Aggregate the data by hospital\n",
        "    hospital_data = aggregate_hospital_data(processed_data)\n",
        "\n",
        "    # Write the output to CSV files\n",
        "    write_csv(processed_data, 'patient_output.csv')\n",
        "    write_csv(hospital_data, 'hospital_output.csv')\n",
        "\n",
        "\n"
      ]
    },
    {
      "cell_type": "markdown",
      "metadata": {
        "id": "MsWATLyM8dwi"
      },
      "source": [
        "### Step 5: Main business logic\n",
        "\n",
        "Call BODE Score, BODE Risk functions for each patient.\n",
        "\n",
        "For each hospital, calculate Avg BODE score and Avg BODE risk and count the number of cases for each hospital."
      ]
    },
    {
      "cell_type": "code",
      "execution_count": 42,
      "metadata": {
        "id": "DFnDKRGc8dwj"
      },
      "outputs": [],
      "source": [
        "patient_csv = \"patient.csv\"\n",
        "hospital_json = \"hospitals.json\"\n",
        "\n",
        "patient_output_file = \"patient_output.csv\"\n",
        "hospital_output_file = \"hospital_output.csv\"\n",
        "\n",
        "\n",
        "patient_data = load_patient_data(patient_csv)\n",
        "# Process patient data to calculate BODE scores and risks\n",
        "processed_data = process_patient_data(patient_data)\n",
        "patient_results = [[\n",
        "    patient['NAME'],\n",
        "    patient['BODE_SCORE'],\n",
        "    patient['BODE_RISK'],\n",
        "    patient['HOSPITAL']\n",
        "] for patient in processed_data]\n",
        "hospital_data = aggregate_hospital_data(processed_data)\n",
        "# Prepare hospital output for CSV\n",
        "hospital_output_list = [[\n",
        "    hospital['HOSPITAL_NAME'],\n",
        "    hospital['COPD_COUNT'],\n",
        "    hospital['AVG_SCORE'],\n",
        "    hospital['AVG_RISK']\n",
        "] for hospital in hospital_data]\n",
        "\n",
        "#Write Patient_output.csv\n",
        "with open(patient_output_file, 'w', newline='') as csvfile:\n",
        "    writer = csv.writer(csvfile)\n",
        "    writer.writerows(patient_results)\n",
        "#Write Hospital_output.csv\n",
        "with open(hospital_output_file, 'w', newline='') as csvfile:\n",
        "    writer = csv.writer(csvfile)\n",
        "    writer.writerows(hospital_output_list)"
      ]
    }
  ],
  "metadata": {
    "language_info": {
      "name": "python"
    },
    "colab": {
      "provenance": [],
      "include_colab_link": true
    },
    "kernelspec": {
      "name": "python3",
      "display_name": "Python 3"
    }
  },
  "nbformat": 4,
  "nbformat_minor": 0
}